{
 "cells": [
  {
   "cell_type": "code",
   "execution_count": 2,
   "metadata": {
    "id": "C3yb4X6tVuxL"
   },
   "outputs": [],
   "source": [
    "import os\n",
    "import cv2\n",
    "import random\n",
    "import numpy as np\n",
    "import pandas as pd\n",
    "from tqdm import tqdm\n",
    "from PIL import Image\n",
    "import seaborn as sns\n",
    "import matplotlib.pyplot as plt\n",
    "\n",
    "from sklearn import metrics\n",
    "from keras.models import Sequential\n",
    "from tensorflow.keras import models\n",
    "from tensorflow.keras import layers\n",
    "from sklearn.preprocessing import OneHotEncoder\n",
    "from tensorflow.keras.preprocessing import image\n",
    "from sklearn.model_selection import train_test_split\n",
    "from keras.applications.vgg16 import preprocess_input\n",
    "from tensorflow.keras.callbacks import ModelCheckpoint, EarlyStopping\n",
    "from keras.preprocessing.image import ImageDataGenerator\n",
    "from tensorflow.keras.applications import EfficientNetB0, vgg16"
   ]
  },
  {
   "cell_type": "code",
   "execution_count": 3,
   "metadata": {
    "colab": {
     "base_uri": "https://localhost:8080/"
    },
    "id": "vYCINd1wW_h9",
    "outputId": "06b375b2-6278-458b-89d6-3e82bc416c8d"
   },
   "outputs": [
    {
     "name": "stdout",
     "output_type": "stream",
     "text": [
      "Mounted at /content/gdrive/\n"
     ]
    }
   ],
   "source": [
    "from google.colab import drive\n",
    "drive.mount('/content/gdrive/', force_remount=True)"
   ]
  },
  {
   "cell_type": "code",
   "execution_count": 4,
   "metadata": {
    "colab": {
     "base_uri": "https://localhost:8080/"
    },
    "id": "mmMs1Ym1fPvu",
    "outputId": "afda48c3-cc63-41f8-86f5-5aea452dbc52"
   },
   "outputs": [
    {
     "name": "stdout",
     "output_type": "stream",
     "text": [
      "/content/gdrive/MyDrive\n"
     ]
    }
   ],
   "source": [
    "%cd gdrive/MyDrive"
   ]
  },
  {
   "cell_type": "markdown",
   "metadata": {
    "id": "rGe0XvbwWA1y"
   },
   "source": [
    " Q1b(i), (iii)"
   ]
  },
  {
   "cell_type": "code",
   "execution_count": null,
   "metadata": {
    "colab": {
     "base_uri": "https://localhost:8080/"
    },
    "id": "_dVTOrobVy7s",
    "outputId": "518d22d0-667e-4011-9c7f-dd62909bec49"
   },
   "outputs": [
    {
     "name": "stderr",
     "output_type": "stream",
     "text": [
      "100%|██████████| 61/61 [00:11<00:00,  5.49it/s]\n",
      "100%|██████████| 58/58 [00:10<00:00,  5.63it/s]\n",
      "100%|██████████| 45/45 [00:07<00:00,  5.70it/s]\n",
      "100%|██████████| 60/60 [00:11<00:00,  5.24it/s]\n",
      "100%|██████████| 60/60 [00:55<00:00,  1.08it/s]\n",
      "100%|██████████| 59/59 [00:11<00:00,  5.34it/s]\n",
      "100%|██████████| 60/60 [00:11<00:00,  5.27it/s]\n",
      "100%|██████████| 60/60 [00:11<00:00,  5.16it/s]\n",
      "100%|██████████| 60/60 [00:10<00:00,  5.71it/s]\n",
      "100%|██████████| 58/58 [00:11<00:00,  5.18it/s]\n",
      "100%|██████████| 60/60 [00:10<00:00,  5.88it/s]\n",
      "100%|██████████| 60/60 [00:10<00:00,  5.88it/s]\n",
      "100%|██████████| 60/60 [00:10<00:00,  5.65it/s]\n",
      "100%|██████████| 60/60 [00:09<00:00,  6.07it/s]\n",
      "100%|██████████| 60/60 [00:11<00:00,  5.31it/s]\n",
      "100%|██████████| 59/59 [00:10<00:00,  5.39it/s]\n",
      "100%|██████████| 59/59 [00:10<00:00,  5.88it/s]\n",
      "100%|██████████| 59/59 [00:10<00:00,  5.76it/s]\n",
      "100%|██████████| 60/60 [00:09<00:00,  6.27it/s]\n",
      "100%|██████████| 60/60 [00:10<00:00,  5.47it/s]\n"
     ]
    }
   ],
   "source": [
    "arrays = []\n",
    "labels = []\n",
    "paths = []\n",
    "path = './Colab Notebooks/DSCI552 Project/data/images'\n",
    "for i, folder in enumerate(os.listdir(path)):\n",
    "    if not folder.startswith('.'):\n",
    "        for img in tqdm(os.listdir(os.path.join(path, folder))):\n",
    "            if not img.startswith('.'):\n",
    "                img_ = cv2.imread(os.path.join(path, folder, img), cv2.IMREAD_UNCHANGED)\n",
    "                resized = cv2.resize(img_, (224, 224), interpolation = cv2.INTER_AREA)\n",
    "                img_path = os.path.join(path, folder, img)\n",
    "                arrays.append(resized)\n",
    "                labels.append(folder.split('.')[1])\n",
    "                paths.append(img_path)"
   ]
  },
  {
   "cell_type": "code",
   "execution_count": null,
   "metadata": {
    "colab": {
     "base_uri": "https://localhost:8080/",
     "height": 112
    },
    "id": "j0wklM2vVz-x",
    "outputId": "bf2a6a70-d59b-4723-c964-3fcc35cc86f1"
   },
   "outputs": [
    {
     "data": {
      "text/html": [
       "\n",
       "  <div id=\"df-49767eba-c858-48d9-a831-4845c5f4fcc7\">\n",
       "    <div class=\"colab-df-container\">\n",
       "      <div>\n",
       "<style scoped>\n",
       "    .dataframe tbody tr th:only-of-type {\n",
       "        vertical-align: middle;\n",
       "    }\n",
       "\n",
       "    .dataframe tbody tr th {\n",
       "        vertical-align: top;\n",
       "    }\n",
       "\n",
       "    .dataframe thead th {\n",
       "        text-align: right;\n",
       "    }\n",
       "</style>\n",
       "<table border=\"1\" class=\"dataframe\">\n",
       "  <thead>\n",
       "    <tr style=\"text-align: right;\">\n",
       "      <th></th>\n",
       "      <th>rbg</th>\n",
       "      <th>class</th>\n",
       "      <th>path</th>\n",
       "    </tr>\n",
       "  </thead>\n",
       "  <tbody>\n",
       "    <tr>\n",
       "      <th>0</th>\n",
       "      <td>[[[232, 183, 124], [230, 181, 124], [231, 179,...</td>\n",
       "      <td>Pied_Kingfisher</td>\n",
       "      <td>./Colab Notebooks/DSCI552 Project/data/images/...</td>\n",
       "    </tr>\n",
       "    <tr>\n",
       "      <th>1</th>\n",
       "      <td>[[[17, 28, 15], [16, 30, 16], [19, 34, 20], [2...</td>\n",
       "      <td>Pied_Kingfisher</td>\n",
       "      <td>./Colab Notebooks/DSCI552 Project/data/images/...</td>\n",
       "    </tr>\n",
       "  </tbody>\n",
       "</table>\n",
       "</div>\n",
       "      <button class=\"colab-df-convert\" onclick=\"convertToInteractive('df-49767eba-c858-48d9-a831-4845c5f4fcc7')\"\n",
       "              title=\"Convert this dataframe to an interactive table.\"\n",
       "              style=\"display:none;\">\n",
       "        \n",
       "  <svg xmlns=\"http://www.w3.org/2000/svg\" height=\"24px\"viewBox=\"0 0 24 24\"\n",
       "       width=\"24px\">\n",
       "    <path d=\"M0 0h24v24H0V0z\" fill=\"none\"/>\n",
       "    <path d=\"M18.56 5.44l.94 2.06.94-2.06 2.06-.94-2.06-.94-.94-2.06-.94 2.06-2.06.94zm-11 1L8.5 8.5l.94-2.06 2.06-.94-2.06-.94L8.5 2.5l-.94 2.06-2.06.94zm10 10l.94 2.06.94-2.06 2.06-.94-2.06-.94-.94-2.06-.94 2.06-2.06.94z\"/><path d=\"M17.41 7.96l-1.37-1.37c-.4-.4-.92-.59-1.43-.59-.52 0-1.04.2-1.43.59L10.3 9.45l-7.72 7.72c-.78.78-.78 2.05 0 2.83L4 21.41c.39.39.9.59 1.41.59.51 0 1.02-.2 1.41-.59l7.78-7.78 2.81-2.81c.8-.78.8-2.07 0-2.86zM5.41 20L4 18.59l7.72-7.72 1.47 1.35L5.41 20z\"/>\n",
       "  </svg>\n",
       "      </button>\n",
       "      \n",
       "  <style>\n",
       "    .colab-df-container {\n",
       "      display:flex;\n",
       "      flex-wrap:wrap;\n",
       "      gap: 12px;\n",
       "    }\n",
       "\n",
       "    .colab-df-convert {\n",
       "      background-color: #E8F0FE;\n",
       "      border: none;\n",
       "      border-radius: 50%;\n",
       "      cursor: pointer;\n",
       "      display: none;\n",
       "      fill: #1967D2;\n",
       "      height: 32px;\n",
       "      padding: 0 0 0 0;\n",
       "      width: 32px;\n",
       "    }\n",
       "\n",
       "    .colab-df-convert:hover {\n",
       "      background-color: #E2EBFA;\n",
       "      box-shadow: 0px 1px 2px rgba(60, 64, 67, 0.3), 0px 1px 3px 1px rgba(60, 64, 67, 0.15);\n",
       "      fill: #174EA6;\n",
       "    }\n",
       "\n",
       "    [theme=dark] .colab-df-convert {\n",
       "      background-color: #3B4455;\n",
       "      fill: #D2E3FC;\n",
       "    }\n",
       "\n",
       "    [theme=dark] .colab-df-convert:hover {\n",
       "      background-color: #434B5C;\n",
       "      box-shadow: 0px 1px 3px 1px rgba(0, 0, 0, 0.15);\n",
       "      filter: drop-shadow(0px 1px 2px rgba(0, 0, 0, 0.3));\n",
       "      fill: #FFFFFF;\n",
       "    }\n",
       "  </style>\n",
       "\n",
       "      <script>\n",
       "        const buttonEl =\n",
       "          document.querySelector('#df-49767eba-c858-48d9-a831-4845c5f4fcc7 button.colab-df-convert');\n",
       "        buttonEl.style.display =\n",
       "          google.colab.kernel.accessAllowed ? 'block' : 'none';\n",
       "\n",
       "        async function convertToInteractive(key) {\n",
       "          const element = document.querySelector('#df-49767eba-c858-48d9-a831-4845c5f4fcc7');\n",
       "          const dataTable =\n",
       "            await google.colab.kernel.invokeFunction('convertToInteractive',\n",
       "                                                     [key], {});\n",
       "          if (!dataTable) return;\n",
       "\n",
       "          const docLinkHtml = 'Like what you see? Visit the ' +\n",
       "            '<a target=\"_blank\" href=https://colab.research.google.com/notebooks/data_table.ipynb>data table notebook</a>'\n",
       "            + ' to learn more about interactive tables.';\n",
       "          element.innerHTML = '';\n",
       "          dataTable['output_type'] = 'display_data';\n",
       "          await google.colab.output.renderOutput(dataTable, element);\n",
       "          const docLink = document.createElement('div');\n",
       "          docLink.innerHTML = docLinkHtml;\n",
       "          element.appendChild(docLink);\n",
       "        }\n",
       "      </script>\n",
       "    </div>\n",
       "  </div>\n",
       "  "
      ],
      "text/plain": [
       "                                                 rbg            class  \\\n",
       "0  [[[232, 183, 124], [230, 181, 124], [231, 179,...  Pied_Kingfisher   \n",
       "1  [[[17, 28, 15], [16, 30, 16], [19, 34, 20], [2...  Pied_Kingfisher   \n",
       "\n",
       "                                                path  \n",
       "0  ./Colab Notebooks/DSCI552 Project/data/images/...  \n",
       "1  ./Colab Notebooks/DSCI552 Project/data/images/...  "
      ]
     },
     "execution_count": 9,
     "metadata": {},
     "output_type": "execute_result"
    }
   ],
   "source": [
    "data = pd.DataFrame({'rbg': arrays, 'class': labels, 'path': paths})\n",
    "data.head(2)"
   ]
  },
  {
   "cell_type": "code",
   "execution_count": null,
   "metadata": {
    "colab": {
     "base_uri": "https://localhost:8080/",
     "height": 313
    },
    "id": "4_nRmC1hWIaG",
    "outputId": "c0800421-9764-44e8-cec1-efd6e0b01fde"
   },
   "outputs": [
    {
     "data": {
      "text/html": [
       "\n",
       "  <div id=\"df-f77e2c27-ce18-40fd-a20c-bd511ba9784e\">\n",
       "    <div class=\"colab-df-container\">\n",
       "      <div>\n",
       "<style scoped>\n",
       "    .dataframe tbody tr th:only-of-type {\n",
       "        vertical-align: middle;\n",
       "    }\n",
       "\n",
       "    .dataframe tbody tr th {\n",
       "        vertical-align: top;\n",
       "    }\n",
       "\n",
       "    .dataframe thead th {\n",
       "        text-align: right;\n",
       "    }\n",
       "</style>\n",
       "<table border=\"1\" class=\"dataframe\">\n",
       "  <thead>\n",
       "    <tr style=\"text-align: right;\">\n",
       "      <th></th>\n",
       "      <th>rbg</th>\n",
       "      <th>class</th>\n",
       "      <th>path</th>\n",
       "      <th>Class</th>\n",
       "      <th>American_Pipit</th>\n",
       "      <th>Anna_Hummingbird</th>\n",
       "      <th>Artic_Tern</th>\n",
       "      <th>Bank_Swallow</th>\n",
       "      <th>Bobolink</th>\n",
       "      <th>Brandt_Cormorant</th>\n",
       "      <th>...</th>\n",
       "      <th>Lazuli_Bunting</th>\n",
       "      <th>Olive_sided_Flycatcher</th>\n",
       "      <th>Ovenbird</th>\n",
       "      <th>Pacific_Loon</th>\n",
       "      <th>Pied_Kingfisher</th>\n",
       "      <th>Pomarine_Jaeger</th>\n",
       "      <th>Ringed_Kingfisher</th>\n",
       "      <th>Savannah_Sparrow</th>\n",
       "      <th>Scissor_tailed_Flycatcher</th>\n",
       "      <th>White_eyed_Vireo</th>\n",
       "    </tr>\n",
       "  </thead>\n",
       "  <tbody>\n",
       "    <tr>\n",
       "      <th>265</th>\n",
       "      <td>[[[89, 157, 169], [91, 159, 172], [89, 159, 17...</td>\n",
       "      <td>Anna_Hummingbird</td>\n",
       "      <td>./Colab Notebooks/DSCI552 Project/data/images/...</td>\n",
       "      <td>6</td>\n",
       "      <td>0.0</td>\n",
       "      <td>1.0</td>\n",
       "      <td>0.0</td>\n",
       "      <td>0.0</td>\n",
       "      <td>0.0</td>\n",
       "      <td>0.0</td>\n",
       "      <td>...</td>\n",
       "      <td>0.0</td>\n",
       "      <td>0.0</td>\n",
       "      <td>0.0</td>\n",
       "      <td>0.0</td>\n",
       "      <td>0.0</td>\n",
       "      <td>0.0</td>\n",
       "      <td>0.0</td>\n",
       "      <td>0.0</td>\n",
       "      <td>0.0</td>\n",
       "      <td>0.0</td>\n",
       "    </tr>\n",
       "  </tbody>\n",
       "</table>\n",
       "<p>1 rows × 24 columns</p>\n",
       "</div>\n",
       "      <button class=\"colab-df-convert\" onclick=\"convertToInteractive('df-f77e2c27-ce18-40fd-a20c-bd511ba9784e')\"\n",
       "              title=\"Convert this dataframe to an interactive table.\"\n",
       "              style=\"display:none;\">\n",
       "        \n",
       "  <svg xmlns=\"http://www.w3.org/2000/svg\" height=\"24px\"viewBox=\"0 0 24 24\"\n",
       "       width=\"24px\">\n",
       "    <path d=\"M0 0h24v24H0V0z\" fill=\"none\"/>\n",
       "    <path d=\"M18.56 5.44l.94 2.06.94-2.06 2.06-.94-2.06-.94-.94-2.06-.94 2.06-2.06.94zm-11 1L8.5 8.5l.94-2.06 2.06-.94-2.06-.94L8.5 2.5l-.94 2.06-2.06.94zm10 10l.94 2.06.94-2.06 2.06-.94-2.06-.94-.94-2.06-.94 2.06-2.06.94z\"/><path d=\"M17.41 7.96l-1.37-1.37c-.4-.4-.92-.59-1.43-.59-.52 0-1.04.2-1.43.59L10.3 9.45l-7.72 7.72c-.78.78-.78 2.05 0 2.83L4 21.41c.39.39.9.59 1.41.59.51 0 1.02-.2 1.41-.59l7.78-7.78 2.81-2.81c.8-.78.8-2.07 0-2.86zM5.41 20L4 18.59l7.72-7.72 1.47 1.35L5.41 20z\"/>\n",
       "  </svg>\n",
       "      </button>\n",
       "      \n",
       "  <style>\n",
       "    .colab-df-container {\n",
       "      display:flex;\n",
       "      flex-wrap:wrap;\n",
       "      gap: 12px;\n",
       "    }\n",
       "\n",
       "    .colab-df-convert {\n",
       "      background-color: #E8F0FE;\n",
       "      border: none;\n",
       "      border-radius: 50%;\n",
       "      cursor: pointer;\n",
       "      display: none;\n",
       "      fill: #1967D2;\n",
       "      height: 32px;\n",
       "      padding: 0 0 0 0;\n",
       "      width: 32px;\n",
       "    }\n",
       "\n",
       "    .colab-df-convert:hover {\n",
       "      background-color: #E2EBFA;\n",
       "      box-shadow: 0px 1px 2px rgba(60, 64, 67, 0.3), 0px 1px 3px 1px rgba(60, 64, 67, 0.15);\n",
       "      fill: #174EA6;\n",
       "    }\n",
       "\n",
       "    [theme=dark] .colab-df-convert {\n",
       "      background-color: #3B4455;\n",
       "      fill: #D2E3FC;\n",
       "    }\n",
       "\n",
       "    [theme=dark] .colab-df-convert:hover {\n",
       "      background-color: #434B5C;\n",
       "      box-shadow: 0px 1px 3px 1px rgba(0, 0, 0, 0.15);\n",
       "      filter: drop-shadow(0px 1px 2px rgba(0, 0, 0, 0.3));\n",
       "      fill: #FFFFFF;\n",
       "    }\n",
       "  </style>\n",
       "\n",
       "      <script>\n",
       "        const buttonEl =\n",
       "          document.querySelector('#df-f77e2c27-ce18-40fd-a20c-bd511ba9784e button.colab-df-convert');\n",
       "        buttonEl.style.display =\n",
       "          google.colab.kernel.accessAllowed ? 'block' : 'none';\n",
       "\n",
       "        async function convertToInteractive(key) {\n",
       "          const element = document.querySelector('#df-f77e2c27-ce18-40fd-a20c-bd511ba9784e');\n",
       "          const dataTable =\n",
       "            await google.colab.kernel.invokeFunction('convertToInteractive',\n",
       "                                                     [key], {});\n",
       "          if (!dataTable) return;\n",
       "\n",
       "          const docLinkHtml = 'Like what you see? Visit the ' +\n",
       "            '<a target=\"_blank\" href=https://colab.research.google.com/notebooks/data_table.ipynb>data table notebook</a>'\n",
       "            + ' to learn more about interactive tables.';\n",
       "          element.innerHTML = '';\n",
       "          dataTable['output_type'] = 'display_data';\n",
       "          await google.colab.output.renderOutput(dataTable, element);\n",
       "          const docLink = document.createElement('div');\n",
       "          docLink.innerHTML = docLinkHtml;\n",
       "          element.appendChild(docLink);\n",
       "        }\n",
       "      </script>\n",
       "    </div>\n",
       "  </div>\n",
       "  "
      ],
      "text/plain": [
       "                                                   rbg             class  \\\n",
       "265  [[[89, 157, 169], [91, 159, 172], [89, 159, 17...  Anna_Hummingbird   \n",
       "\n",
       "                                                  path  Class  American_Pipit  \\\n",
       "265  ./Colab Notebooks/DSCI552 Project/data/images/...      6             0.0   \n",
       "\n",
       "     Anna_Hummingbird  Artic_Tern  Bank_Swallow  Bobolink  Brandt_Cormorant  \\\n",
       "265               1.0         0.0           0.0       0.0               0.0   \n",
       "\n",
       "     ...  Lazuli_Bunting  Olive_sided_Flycatcher  Ovenbird  Pacific_Loon  \\\n",
       "265  ...             0.0                     0.0       0.0           0.0   \n",
       "\n",
       "     Pied_Kingfisher  Pomarine_Jaeger  Ringed_Kingfisher  Savannah_Sparrow  \\\n",
       "265              0.0              0.0                0.0               0.0   \n",
       "\n",
       "     Scissor_tailed_Flycatcher  White_eyed_Vireo  \n",
       "265                        0.0               0.0  \n",
       "\n",
       "[1 rows x 24 columns]"
      ]
     },
     "execution_count": 29,
     "metadata": {},
     "output_type": "execute_result"
    }
   ],
   "source": [
    "onehotencoder = OneHotEncoder()\n",
    "ohe_label = onehotencoder.fit_transform(data['class'].values.reshape(-1,1)).toarray()\n",
    "columns = [f.split('0_')[1] for f in onehotencoder.get_feature_names_out()]\n",
    "dfOneHot = pd.DataFrame(ohe_label, columns=columns) \n",
    "df = pd.concat([data, dfOneHot], axis=1)\n",
    "df.sample(1)"
   ]
  },
  {
   "cell_type": "markdown",
   "metadata": {
    "id": "3LgOKyM-WD4B"
   },
   "source": [
    "Q1b(ii)"
   ]
  },
  {
   "cell_type": "code",
   "execution_count": null,
   "metadata": {
    "id": "ueigig0rV0Kn"
   },
   "outputs": [],
   "source": [
    "X = df[['rbg', 'path', 'class', 'Class']]\n",
    "y = df.drop(['rbg', 'class', 'path', 'Class'], axis=1)\n",
    "X_train, X_test, y_train, y_test = train_test_split(X, y, stratify=y, test_size=0.3)"
   ]
  },
  {
   "cell_type": "code",
   "execution_count": null,
   "metadata": {
    "id": "iGj8zoIYV0PE"
   },
   "outputs": [],
   "source": [
    "X_val, X_test, y_val, y_test = train_test_split(X_test, y_test, stratify=y_test, test_size=0.5)"
   ]
  },
  {
   "cell_type": "code",
   "execution_count": null,
   "metadata": {
    "id": "MWkH0fV2LdaZ"
   },
   "outputs": [],
   "source": [
    "directory='./Colab Notebooks/DSCI552 Project/data/train'\n",
    "\n",
    "for i in range(len(X_train)):\n",
    "    path = r'%s' % X_train.iloc[i, 1]\n",
    "    class_ = X_train.iloc[i, 2]\n",
    "    if class_ not in os.listdir(directory):\n",
    "      os.mkdir(os.path.join(directory,class_))\n",
    "    image=cv2.imread(path)\n",
    "    filename = X_train.iloc[i, 1].split('/')[-1]\n",
    "    cv2.imwrite(os.path.join(directory, class_, filename), image)"
   ]
  },
  {
   "cell_type": "code",
   "execution_count": null,
   "metadata": {
    "id": "ZiK0gvlmJzxW"
   },
   "outputs": [],
   "source": [
    "directory='./Colab Notebooks/DSCI552 Project/data/validation'\n",
    "\n",
    "for i in range(len(X_val)):\n",
    "    path = r'%s' % X_val.iloc[i, 1]\n",
    "    class_ = X_val.iloc[i, 2]\n",
    "    if class_ not in os.listdir(directory):\n",
    "      os.mkdir(os.path.join(directory,class_))\n",
    "    image=cv2.imread(path)\n",
    "    filename = X_val.iloc[i, 1].split('/')[-1]\n",
    "    cv2.imwrite(os.path.join(directory, class_, filename), image)"
   ]
  },
  {
   "cell_type": "code",
   "execution_count": null,
   "metadata": {
    "id": "XxGuoE9cLdKb"
   },
   "outputs": [],
   "source": [
    "directory='./Colab Notebooks/DSCI552 Project/data/test'\n",
    "\n",
    "for i in range(len(X_test)):\n",
    "    path = r'%s' % X_test.iloc[i, 1]\n",
    "    class_ = X_test.iloc[i, 2]\n",
    "    if class_ not in os.listdir(directory):\n",
    "      os.mkdir(os.path.join(directory,class_))\n",
    "    image=cv2.imread(path)\n",
    "    filename = X_test.iloc[i, 1].split('/')[-1]\n",
    "    cv2.imwrite(os.path.join(directory, class_, filename), image)"
   ]
  },
  {
   "cell_type": "markdown",
   "metadata": {
    "id": "T2qSrMqxWW6y"
   },
   "source": [
    "Q1b(iii)"
   ]
  },
  {
   "cell_type": "code",
   "execution_count": null,
   "metadata": {
    "id": "LbjFTJS_wcyA"
   },
   "outputs": [],
   "source": [
    "train_datagen = ImageDataGenerator(\n",
    "                                  zoom_range=random.uniform(0.4, 0.6),\n",
    "                                  shear_range = 0.2,\n",
    "                                  rotation_range=30,\n",
    "                                  horizontal_flip=True,\n",
    "                                  brightness_range=[0.2, 1.0],\n",
    "                                  height_shift_range=0.2,\n",
    "                                  width_shift_range = 0.2,\n",
    "                                )\n",
    "\n",
    "test_datagen = ImageDataGenerator()"
   ]
  },
  {
   "cell_type": "code",
   "execution_count": null,
   "metadata": {
    "colab": {
     "base_uri": "https://localhost:8080/"
    },
    "id": "Qt8Y50flP1zu",
    "outputId": "9fb32066-9713-4eca-f208-416a01e36caf"
   },
   "outputs": [
    {
     "name": "stdout",
     "output_type": "stream",
     "text": [
      "Found 823 images belonging to 20 classes.\n",
      "Found 176 images belonging to 20 classes.\n",
      "Found 177 images belonging to 20 classes.\n"
     ]
    }
   ],
   "source": [
    "train_generator = train_datagen.flow_from_directory(\n",
    "    directory='./Colab Notebooks/DSCI552 Project/data/train',\n",
    "    target_size=(224, 224),\n",
    "    batch_size=16,\n",
    "    class_mode=\"categorical\",\n",
    "    shuffle=True,\n",
    "    seed=0\n",
    ")\n",
    "\n",
    "valid_generator = test_datagen.flow_from_directory(\n",
    "    directory='./Colab Notebooks/DSCI552 Project/data/validation/',\n",
    "    target_size=(224, 224),\n",
    "    batch_size=16,\n",
    "    class_mode=\"categorical\",\n",
    "    shuffle=True,\n",
    "    seed=0\n",
    ")\n",
    "\n",
    "test_generator = test_datagen.flow_from_directory(\n",
    "    directory='./Colab Notebooks/DSCI552 Project/data/test',\n",
    "    target_size=(224, 224),\n",
    "    batch_size=16,\n",
    "    class_mode='categorical',\n",
    "    shuffle=False,\n",
    "    seed=0\n",
    ")"
   ]
  },
  {
   "cell_type": "markdown",
   "metadata": {
    "id": "O0xPpIGLX-Ek"
   },
   "source": [
    "1c(i), (ii), (iii), (iv)"
   ]
  },
  {
   "cell_type": "markdown",
   "metadata": {
    "id": "ZkE6K60VHNMS"
   },
   "source": [
    "EfficientNetB0"
   ]
  },
  {
   "cell_type": "code",
   "execution_count": null,
   "metadata": {
    "id": "9DSaH-vdN-9Q"
   },
   "outputs": [],
   "source": [
    "base_model_B0 = EfficientNetB0(include_top=False, weights=\"imagenet\", input_shape=(224, 224, 3))\n",
    "base_model_B0.trainable = False # freeze weights"
   ]
  },
  {
   "cell_type": "code",
   "execution_count": null,
   "metadata": {
    "id": "R7zPGI1O8ew1"
   },
   "outputs": [],
   "source": [
    "model = models.Sequential()\n",
    "model.add(base_model_B0)\n",
    "model.add(layers.GlobalMaxPooling2D())\n",
    "model.add(layers.Dropout(0.2))\n",
    "model.add(layers.Dense(256, activation='relu'))\n",
    "model.add(layers.BatchNormalization())\n",
    "model.add(layers.Dense(20, activation=\"softmax\"))"
   ]
  },
  {
   "cell_type": "code",
   "execution_count": null,
   "metadata": {
    "id": "3YYfdxrd9X_w"
   },
   "outputs": [],
   "source": [
    "model.compile(\n",
    "    loss=\"categorical_crossentropy\",\n",
    "    optimizer='adam',\n",
    "    metrics=[\"acc\"]\n",
    ")"
   ]
  },
  {
   "cell_type": "code",
   "execution_count": null,
   "metadata": {
    "id": "__5OORKCZFWB"
   },
   "outputs": [],
   "source": [
    "filepath=\"/content/gdrive/MyDrive/best_model_B0.hdf5\"\n",
    "callback = [\n",
    "    EarlyStopping(monitor='val_loss', patience=10, mode='min', restore_best_weights=True),\n",
    "    ModelCheckpoint(filepath, monitor='val_loss', verbose=1, save_best_only=True, mode='min')\n",
    "]\n",
    "callbacks_list = [callback]"
   ]
  },
  {
   "cell_type": "code",
   "execution_count": null,
   "metadata": {
    "colab": {
     "base_uri": "https://localhost:8080/"
    },
    "id": "sGk1YRuiQjRR",
    "outputId": "27ec8459-8dea-4b12-92ad-db565ef6557e"
   },
   "outputs": [
    {
     "name": "stderr",
     "output_type": "stream",
     "text": [
      "<ipython-input-77-05bf14c67acb>:1: UserWarning: `Model.fit_generator` is deprecated and will be removed in a future version. Please use `Model.fit`, which supports generators.\n",
      "  model1 = model.fit_generator(\n"
     ]
    },
    {
     "name": "stdout",
     "output_type": "stream",
     "text": [
      "Epoch 1/50\n",
      "52/52 [==============================] - ETA: 0s - loss: 1.6280 - acc: 0.5237\n",
      "Epoch 1: val_loss improved from inf to 0.91327, saving model to /content/gdrive/MyDrive/best_model_B0.hdf5\n",
      "52/52 [==============================] - 87s 2s/step - loss: 1.6280 - acc: 0.5237 - val_loss: 0.9133 - val_acc: 0.8011\n",
      "Epoch 2/50\n",
      "52/52 [==============================] - ETA: 0s - loss: 0.7512 - acc: 0.7728\n",
      "Epoch 2: val_loss improved from 0.91327 to 0.68681, saving model to /content/gdrive/MyDrive/best_model_B0.hdf5\n",
      "52/52 [==============================] - 69s 1s/step - loss: 0.7512 - acc: 0.7728 - val_loss: 0.6868 - val_acc: 0.8239\n",
      "Epoch 3/50\n",
      "52/52 [==============================] - ETA: 0s - loss: 0.5945 - acc: 0.8165\n",
      "Epoch 3: val_loss improved from 0.68681 to 0.56784, saving model to /content/gdrive/MyDrive/best_model_B0.hdf5\n",
      "52/52 [==============================] - 78s 1s/step - loss: 0.5945 - acc: 0.8165 - val_loss: 0.5678 - val_acc: 0.8352\n",
      "Epoch 4/50\n",
      "52/52 [==============================] - ETA: 0s - loss: 0.5058 - acc: 0.8603\n",
      "Epoch 4: val_loss improved from 0.56784 to 0.49305, saving model to /content/gdrive/MyDrive/best_model_B0.hdf5\n",
      "52/52 [==============================] - 69s 1s/step - loss: 0.5058 - acc: 0.8603 - val_loss: 0.4930 - val_acc: 0.8693\n",
      "Epoch 5/50\n",
      "52/52 [==============================] - ETA: 0s - loss: 0.4342 - acc: 0.8651\n",
      "Epoch 5: val_loss did not improve from 0.49305\n",
      "52/52 [==============================] - 77s 1s/step - loss: 0.4342 - acc: 0.8651 - val_loss: 0.4969 - val_acc: 0.8864\n",
      "Epoch 6/50\n",
      "52/52 [==============================] - ETA: 0s - loss: 0.4474 - acc: 0.8469\n",
      "Epoch 6: val_loss did not improve from 0.49305\n",
      "52/52 [==============================] - 77s 1s/step - loss: 0.4474 - acc: 0.8469 - val_loss: 0.5300 - val_acc: 0.8807\n",
      "Epoch 7/50\n",
      "52/52 [==============================] - ETA: 0s - loss: 0.3441 - acc: 0.9101\n",
      "Epoch 7: val_loss did not improve from 0.49305\n",
      "52/52 [==============================] - 69s 1s/step - loss: 0.3441 - acc: 0.9101 - val_loss: 0.5197 - val_acc: 0.8580\n",
      "Epoch 8/50\n",
      "52/52 [==============================] - ETA: 0s - loss: 0.3358 - acc: 0.8991\n",
      "Epoch 8: val_loss did not improve from 0.49305\n",
      "52/52 [==============================] - 77s 1s/step - loss: 0.3358 - acc: 0.8991 - val_loss: 0.6067 - val_acc: 0.8523\n",
      "Epoch 9/50\n",
      "52/52 [==============================] - ETA: 0s - loss: 0.3520 - acc: 0.8955\n",
      "Epoch 9: val_loss improved from 0.49305 to 0.47023, saving model to /content/gdrive/MyDrive/best_model_B0.hdf5\n",
      "52/52 [==============================] - 69s 1s/step - loss: 0.3520 - acc: 0.8955 - val_loss: 0.4702 - val_acc: 0.8977\n",
      "Epoch 10/50\n",
      "52/52 [==============================] - ETA: 0s - loss: 0.3190 - acc: 0.9052\n",
      "Epoch 10: val_loss improved from 0.47023 to 0.43754, saving model to /content/gdrive/MyDrive/best_model_B0.hdf5\n",
      "52/52 [==============================] - 68s 1s/step - loss: 0.3190 - acc: 0.9052 - val_loss: 0.4375 - val_acc: 0.9091\n",
      "Epoch 11/50\n",
      "52/52 [==============================] - ETA: 0s - loss: 0.3025 - acc: 0.8991\n",
      "Epoch 11: val_loss did not improve from 0.43754\n",
      "52/52 [==============================] - 79s 2s/step - loss: 0.3025 - acc: 0.8991 - val_loss: 0.5463 - val_acc: 0.8693\n",
      "Epoch 12/50\n",
      "52/52 [==============================] - ETA: 0s - loss: 0.3024 - acc: 0.9162\n",
      "Epoch 12: val_loss did not improve from 0.43754\n",
      "52/52 [==============================] - 79s 2s/step - loss: 0.3024 - acc: 0.9162 - val_loss: 0.4851 - val_acc: 0.8693\n",
      "Epoch 13/50\n",
      "52/52 [==============================] - ETA: 0s - loss: 0.2553 - acc: 0.9149\n",
      "Epoch 13: val_loss did not improve from 0.43754\n",
      "52/52 [==============================] - 67s 1s/step - loss: 0.2553 - acc: 0.9149 - val_loss: 0.6089 - val_acc: 0.8523\n",
      "Epoch 14/50\n",
      "52/52 [==============================] - ETA: 0s - loss: 0.2671 - acc: 0.9162\n",
      "Epoch 14: val_loss did not improve from 0.43754\n",
      "52/52 [==============================] - 70s 1s/step - loss: 0.2671 - acc: 0.9162 - val_loss: 0.4851 - val_acc: 0.8807\n",
      "Epoch 15/50\n",
      "52/52 [==============================] - ETA: 0s - loss: 0.2519 - acc: 0.9235\n",
      "Epoch 15: val_loss did not improve from 0.43754\n",
      "52/52 [==============================] - 77s 1s/step - loss: 0.2519 - acc: 0.9235 - val_loss: 0.4945 - val_acc: 0.8977\n",
      "Epoch 16/50\n",
      "52/52 [==============================] - ETA: 0s - loss: 0.2896 - acc: 0.9186\n",
      "Epoch 16: val_loss did not improve from 0.43754\n",
      "52/52 [==============================] - 69s 1s/step - loss: 0.2896 - acc: 0.9186 - val_loss: 0.5003 - val_acc: 0.9034\n",
      "Epoch 17/50\n",
      "52/52 [==============================] - ETA: 0s - loss: 0.2653 - acc: 0.9222\n",
      "Epoch 17: val_loss did not improve from 0.43754\n",
      "52/52 [==============================] - 69s 1s/step - loss: 0.2653 - acc: 0.9222 - val_loss: 0.5287 - val_acc: 0.8466\n",
      "Epoch 18/50\n",
      "52/52 [==============================] - ETA: 0s - loss: 0.2837 - acc: 0.9162\n",
      "Epoch 18: val_loss improved from 0.43754 to 0.41339, saving model to /content/gdrive/MyDrive/best_model_B0.hdf5\n",
      "52/52 [==============================] - 68s 1s/step - loss: 0.2837 - acc: 0.9162 - val_loss: 0.4134 - val_acc: 0.9034\n",
      "Epoch 19/50\n",
      "52/52 [==============================] - ETA: 0s - loss: 0.2230 - acc: 0.9222\n",
      "Epoch 19: val_loss did not improve from 0.41339\n",
      "52/52 [==============================] - 69s 1s/step - loss: 0.2230 - acc: 0.9222 - val_loss: 0.5249 - val_acc: 0.9034\n",
      "Epoch 20/50\n",
      "52/52 [==============================] - ETA: 0s - loss: 0.2553 - acc: 0.9247\n",
      "Epoch 20: val_loss did not improve from 0.41339\n",
      "52/52 [==============================] - 67s 1s/step - loss: 0.2553 - acc: 0.9247 - val_loss: 0.5942 - val_acc: 0.8693\n",
      "Epoch 21/50\n",
      "52/52 [==============================] - ETA: 0s - loss: 0.2381 - acc: 0.9271\n",
      "Epoch 21: val_loss did not improve from 0.41339\n",
      "52/52 [==============================] - 69s 1s/step - loss: 0.2381 - acc: 0.9271 - val_loss: 0.4916 - val_acc: 0.9205\n",
      "Epoch 22/50\n",
      "52/52 [==============================] - ETA: 0s - loss: 0.2451 - acc: 0.9295\n",
      "Epoch 22: val_loss did not improve from 0.41339\n",
      "52/52 [==============================] - 67s 1s/step - loss: 0.2451 - acc: 0.9295 - val_loss: 0.5149 - val_acc: 0.8807\n",
      "Epoch 23/50\n",
      "52/52 [==============================] - ETA: 0s - loss: 0.2145 - acc: 0.9392\n",
      "Epoch 23: val_loss did not improve from 0.41339\n",
      "52/52 [==============================] - 69s 1s/step - loss: 0.2145 - acc: 0.9392 - val_loss: 0.4382 - val_acc: 0.8977\n",
      "Epoch 24/50\n",
      "52/52 [==============================] - ETA: 0s - loss: 0.2330 - acc: 0.9332\n",
      "Epoch 24: val_loss did not improve from 0.41339\n",
      "52/52 [==============================] - 67s 1s/step - loss: 0.2330 - acc: 0.9332 - val_loss: 0.5177 - val_acc: 0.8693\n",
      "Epoch 25/50\n",
      "52/52 [==============================] - ETA: 0s - loss: 0.2089 - acc: 0.9380\n",
      "Epoch 25: val_loss did not improve from 0.41339\n",
      "52/52 [==============================] - 79s 2s/step - loss: 0.2089 - acc: 0.9380 - val_loss: 0.4523 - val_acc: 0.9034\n",
      "Epoch 26/50\n",
      "52/52 [==============================] - ETA: 0s - loss: 0.2092 - acc: 0.9235\n",
      "Epoch 26: val_loss did not improve from 0.41339\n",
      "52/52 [==============================] - 69s 1s/step - loss: 0.2092 - acc: 0.9235 - val_loss: 0.5683 - val_acc: 0.8864\n",
      "Epoch 27/50\n",
      "52/52 [==============================] - ETA: 0s - loss: 0.1988 - acc: 0.9332\n",
      "Epoch 27: val_loss did not improve from 0.41339\n",
      "52/52 [==============================] - 77s 1s/step - loss: 0.1988 - acc: 0.9332 - val_loss: 0.5224 - val_acc: 0.8977\n",
      "Epoch 28/50\n",
      "52/52 [==============================] - ETA: 0s - loss: 0.2412 - acc: 0.9271\n",
      "Epoch 28: val_loss did not improve from 0.41339\n",
      "52/52 [==============================] - 69s 1s/step - loss: 0.2412 - acc: 0.9271 - val_loss: 0.6642 - val_acc: 0.8864\n"
     ]
    }
   ],
   "source": [
    "model1 = model.fit_generator(\n",
    "    generator=train_generator,\n",
    "    epochs=50,\n",
    "    validation_data=valid_generator,\n",
    "    callbacks=callbacks_list,\n",
    ")"
   ]
  },
  {
   "cell_type": "code",
   "execution_count": null,
   "metadata": {
    "colab": {
     "base_uri": "https://localhost:8080/",
     "height": 295
    },
    "id": "LgvIVS3oGPtR",
    "outputId": "c8358857-14fb-4d77-ef82-93dd6932344f"
   },
   "outputs": [
    {
     "data": {
      "image/png": "[encoded data removed]",
      "text/plain": [
       "<Figure size 432x288 with 1 Axes>"
      ]
     },
     "metadata": {},
     "output_type": "display_data"
    }
   ],
   "source": [
    "epochs = [i for i in range(len(model1.history['loss']))]\n",
    "plt.plot(epochs, model1.history['loss'])\n",
    "plt.plot(epochs, model1.history['val_loss'])\n",
    "plt.title('Training and Validation errors per epoch')\n",
    "plt.xlabel('Epoch')\n",
    "plt.ylabel('Error')\n",
    "plt.legend(['Training Error', 'Validation Error'])\n",
    "plt.show()"
   ]
  },
  {
   "cell_type": "code",
   "execution_count": null,
   "metadata": {
    "id": "EnwslRYNkdSz"
   },
   "outputs": [],
   "source": [
    "model.load_weights('/content/gdrive/MyDrive/best_model_B0.hdf5')"
   ]
  },
  {
   "cell_type": "code",
   "execution_count": null,
   "metadata": {
    "colab": {
     "base_uri": "https://localhost:8080/"
    },
    "id": "71gqplajldbj",
    "outputId": "f02612b4-0386-46a1-bfeb-6fc4f5907500"
   },
   "outputs": [
    {
     "name": "stdout",
     "output_type": "stream",
     "text": [
      "12/12 [==============================] - 15s 1s/step\n"
     ]
    }
   ],
   "source": [
    "y_pred = model.predict(test_generator)"
   ]
  },
  {
   "cell_type": "code",
   "execution_count": null,
   "metadata": {
    "id": "1aRDo61lPZun"
   },
   "outputs": [],
   "source": [
    "y_pred1 = np.argmax(y_pred, axis=1)"
   ]
  },
  {
   "cell_type": "markdown",
   "metadata": {
    "id": "bUt-1N4pJlma"
   },
   "source": [
    "VGG16"
   ]
  },
  {
   "cell_type": "code",
   "execution_count": null,
   "metadata": {
    "id": "3Y3Df5CouUvl"
   },
   "outputs": [],
   "source": [
    "train_datagen2 = ImageDataGenerator(\n",
    "    zoom_range=random.uniform(0.4, 0.6),\n",
    "    shear_range = 0.2,\n",
    "    rotation_range=30,\n",
    "    horizontal_flip=True,\n",
    "    brightness_range=[0.2, 1.0],\n",
    "    height_shift_range=0.2,\n",
    "    width_shift_range = 0.2,\n",
    "    preprocessing_function=preprocess_input\n",
    ")\n",
    "\n",
    "test_datagen2 = ImageDataGenerator(preprocessing_function=preprocess_input)"
   ]
  },
  {
   "cell_type": "code",
   "execution_count": null,
   "metadata": {
    "colab": {
     "base_uri": "https://localhost:8080/"
    },
    "id": "4IMXCR7nuxdP",
    "outputId": "c3b1cf80-b731-425f-804d-f37e2468677a"
   },
   "outputs": [
    {
     "name": "stdout",
     "output_type": "stream",
     "text": [
      "Found 823 images belonging to 20 classes.\n",
      "Found 176 images belonging to 20 classes.\n",
      "Found 177 images belonging to 20 classes.\n"
     ]
    }
   ],
   "source": [
    "train_generator2 = train_datagen2.flow_from_directory(\n",
    "    directory='./Colab Notebooks/DSCI552 Project/data/train',\n",
    "    target_size=(224, 224),\n",
    "    batch_size=16,\n",
    "    class_mode=\"categorical\",\n",
    "    shuffle=True,\n",
    "    seed=0\n",
    ")\n",
    "\n",
    "valid_generator2 = test_datagen2.flow_from_directory(\n",
    "    directory='./Colab Notebooks/DSCI552 Project/data/validation/',\n",
    "    target_size=(224, 224),\n",
    "    batch_size=16,\n",
    "    class_mode=\"categorical\",\n",
    "    shuffle=True,\n",
    "    seed=0\n",
    ")\n",
    "\n",
    "test_generator2 = test_datagen2.flow_from_directory(\n",
    "    directory='./Colab Notebooks/DSCI552 Project/data/test',\n",
    "    target_size=(224, 224),\n",
    "    batch_size=16,\n",
    "    class_mode='categorical',\n",
    "    shuffle=False,\n",
    "    seed=0\n",
    ")"
   ]
  },
  {
   "cell_type": "code",
   "execution_count": null,
   "metadata": {
    "colab": {
     "base_uri": "https://localhost:8080/"
    },
    "id": "tl_tTruOYpyI",
    "outputId": "455ac64f-b7f9-4759-f505-7b7ec186e2f0"
   },
   "outputs": [
    {
     "name": "stdout",
     "output_type": "stream",
     "text": [
      "Downloading data from https://storage.googleapis.com/tensorflow/keras-applications/vgg16/vgg16_weights_tf_dim_ordering_tf_kernels_notop.h5\n",
      "58889256/58889256 [==============================] - 3s 0us/step\n"
     ]
    }
   ],
   "source": [
    "base_model_vgg = vgg16.VGG16(include_top=False, weights=\"imagenet\")\n",
    "base_model_vgg.trainable = False # freeze weights"
   ]
  },
  {
   "cell_type": "code",
   "execution_count": null,
   "metadata": {
    "id": "EksU6mGBYtY-"
   },
   "outputs": [],
   "source": [
    "model_ = models.Sequential()\n",
    "model_.add(base_model_vgg)\n",
    "model_.add(layers.GlobalMaxPooling2D())\n",
    "model_.add(layers.Dropout(0.2))\n",
    "model_.add(layers.Dense(256, activation='relu'))\n",
    "model_.add(layers.BatchNormalization())\n",
    "model_.add(layers.Dense(20, activation=\"softmax\"))"
   ]
  },
  {
   "cell_type": "code",
   "execution_count": null,
   "metadata": {
    "id": "GLujxUVGYzNh"
   },
   "outputs": [],
   "source": [
    "model_.compile(\n",
    "    loss=\"categorical_crossentropy\",\n",
    "    optimizer='adam',\n",
    "    metrics=[\"acc\"]\n",
    ")"
   ]
  },
  {
   "cell_type": "code",
   "execution_count": null,
   "metadata": {
    "id": "ZZmmV5SWYUQj"
   },
   "outputs": [],
   "source": [
    "filepath2=\"/content/gdrive/MyDrive/best_model_vgg.hdf5\"\n",
    "callback2 = [\n",
    "    EarlyStopping(monitor='val_loss', patience=10, mode='min', restore_best_weights=True),\n",
    "    ModelCheckpoint(filepath2, monitor='val_loss', verbose=1, save_best_only=True, mode='min')\n",
    "]\n",
    "callbacks_list2 = [callback2]"
   ]
  },
  {
   "cell_type": "code",
   "execution_count": null,
   "metadata": {
    "colab": {
     "background_save": true,
     "base_uri": "https://localhost:8080/"
    },
    "id": "77XqpLn8hhgf",
    "outputId": "732d5060-499e-4c21-f6b5-9b26e8103a3d"
   },
   "outputs": [
    {
     "name": "stderr",
     "output_type": "stream",
     "text": [
      "<ipython-input-14-58e3a3851320>:1: UserWarning: `Model.fit_generator` is deprecated and will be removed in a future version. Please use `Model.fit`, which supports generators.\n",
      "  model2 = model_.fit_generator(\n"
     ]
    },
    {
     "name": "stdout",
     "output_type": "stream",
     "text": [
      "Epoch 1/50\n",
      "52/52 [==============================] - ETA: 0s - loss: 2.5268 - acc: 0.2685 \n",
      "Epoch 1: val_loss improved from inf to 1.81071, saving model to /content/gdrive/MyDrive/best_model_vgg.hdf5\n",
      "52/52 [==============================] - 747s 14s/step - loss: 2.5268 - acc: 0.2685 - val_loss: 1.8107 - val_acc: 0.5511\n",
      "Epoch 2/50\n",
      "52/52 [==============================] - ETA: 0s - loss: 1.4385 - acc: 0.5541\n",
      "Epoch 2: val_loss improved from 1.81071 to 1.23834, saving model to /content/gdrive/MyDrive/best_model_vgg.hdf5\n",
      "52/52 [==============================] - 19s 365ms/step - loss: 1.4385 - acc: 0.5541 - val_loss: 1.2383 - val_acc: 0.6818\n",
      "Epoch 3/50\n",
      "52/52 [==============================] - ETA: 0s - loss: 1.0972 - acc: 0.6756\n",
      "Epoch 3: val_loss improved from 1.23834 to 0.97532, saving model to /content/gdrive/MyDrive/best_model_vgg.hdf5\n",
      "52/52 [==============================] - 18s 343ms/step - loss: 1.0972 - acc: 0.6756 - val_loss: 0.9753 - val_acc: 0.7330\n",
      "Epoch 4/50\n",
      "52/52 [==============================] - ETA: 0s - loss: 0.9560 - acc: 0.7145\n",
      "Epoch 4: val_loss improved from 0.97532 to 0.74148, saving model to /content/gdrive/MyDrive/best_model_vgg.hdf5\n",
      "52/52 [==============================] - 18s 344ms/step - loss: 0.9560 - acc: 0.7145 - val_loss: 0.7415 - val_acc: 0.8125\n",
      "Epoch 5/50\n",
      "52/52 [==============================] - ETA: 0s - loss: 0.8608 - acc: 0.7412\n",
      "Epoch 5: val_loss did not improve from 0.74148\n",
      "52/52 [==============================] - 17s 322ms/step - loss: 0.8608 - acc: 0.7412 - val_loss: 0.7977 - val_acc: 0.7898\n",
      "Epoch 6/50\n",
      "52/52 [==============================] - ETA: 0s - loss: 0.8426 - acc: 0.7546\n",
      "Epoch 6: val_loss improved from 0.74148 to 0.61293, saving model to /content/gdrive/MyDrive/best_model_vgg.hdf5\n",
      "52/52 [==============================] - 18s 341ms/step - loss: 0.8426 - acc: 0.7546 - val_loss: 0.6129 - val_acc: 0.8523\n",
      "Epoch 7/50\n",
      "52/52 [==============================] - ETA: 0s - loss: 0.7419 - acc: 0.7776\n",
      "Epoch 7: val_loss did not improve from 0.61293\n",
      "52/52 [==============================] - 17s 324ms/step - loss: 0.7419 - acc: 0.7776 - val_loss: 0.6180 - val_acc: 0.8580\n",
      "Epoch 8/50\n",
      "52/52 [==============================] - ETA: 0s - loss: 0.6924 - acc: 0.7825\n",
      "Epoch 8: val_loss did not improve from 0.61293\n",
      "52/52 [==============================] - 17s 319ms/step - loss: 0.6924 - acc: 0.7825 - val_loss: 0.6908 - val_acc: 0.8182\n",
      "Epoch 9/50\n",
      "52/52 [==============================] - ETA: 0s - loss: 0.6899 - acc: 0.7947\n",
      "Epoch 9: val_loss did not improve from 0.61293\n",
      "52/52 [==============================] - 17s 327ms/step - loss: 0.6899 - acc: 0.7947 - val_loss: 0.6539 - val_acc: 0.8409\n",
      "Epoch 10/50\n",
      "52/52 [==============================] - ETA: 0s - loss: 0.6372 - acc: 0.8044\n",
      "Epoch 10: val_loss did not improve from 0.61293\n",
      "52/52 [==============================] - 17s 324ms/step - loss: 0.6372 - acc: 0.8044 - val_loss: 0.6620 - val_acc: 0.8352\n",
      "Epoch 11/50\n",
      "52/52 [==============================] - ETA: 0s - loss: 0.6394 - acc: 0.8007\n",
      "Epoch 11: val_loss did not improve from 0.61293\n",
      "52/52 [==============================] - 18s 337ms/step - loss: 0.6394 - acc: 0.8007 - val_loss: 0.6823 - val_acc: 0.8636\n",
      "Epoch 12/50\n",
      "52/52 [==============================] - ETA: 0s - loss: 0.5716 - acc: 0.8141\n",
      "Epoch 12: val_loss improved from 0.61293 to 0.58798, saving model to /content/gdrive/MyDrive/best_model_vgg.hdf5\n",
      "52/52 [==============================] - 17s 335ms/step - loss: 0.5716 - acc: 0.8141 - val_loss: 0.5880 - val_acc: 0.8750\n",
      "Epoch 13/50\n",
      "52/52 [==============================] - ETA: 0s - loss: 0.6008 - acc: 0.8153\n",
      "Epoch 13: val_loss did not improve from 0.58798\n",
      "52/52 [==============================] - 17s 323ms/step - loss: 0.6008 - acc: 0.8153 - val_loss: 0.5927 - val_acc: 0.8580\n",
      "Epoch 14/50\n",
      "52/52 [==============================] - ETA: 0s - loss: 0.6343 - acc: 0.7983\n",
      "Epoch 14: val_loss improved from 0.58798 to 0.56689, saving model to /content/gdrive/MyDrive/best_model_vgg.hdf5\n",
      "52/52 [==============================] - 17s 329ms/step - loss: 0.6343 - acc: 0.7983 - val_loss: 0.5669 - val_acc: 0.8750\n",
      "Epoch 15/50\n",
      "52/52 [==============================] - ETA: 0s - loss: 0.5686 - acc: 0.8202\n",
      "Epoch 15: val_loss did not improve from 0.56689\n",
      "52/52 [==============================] - 17s 319ms/step - loss: 0.5686 - acc: 0.8202 - val_loss: 0.5980 - val_acc: 0.8864\n",
      "Epoch 16/50\n",
      "52/52 [==============================] - ETA: 0s - loss: 0.5604 - acc: 0.8262\n",
      "Epoch 16: val_loss did not improve from 0.56689\n",
      "52/52 [==============================] - 16s 309ms/step - loss: 0.5604 - acc: 0.8262 - val_loss: 0.6247 - val_acc: 0.8580\n",
      "Epoch 17/50\n",
      "52/52 [==============================] - ETA: 0s - loss: 0.4879 - acc: 0.8335\n",
      "Epoch 17: val_loss did not improve from 0.56689\n",
      "52/52 [==============================] - 16s 309ms/step - loss: 0.4879 - acc: 0.8335 - val_loss: 0.6197 - val_acc: 0.8352\n",
      "Epoch 18/50\n",
      "52/52 [==============================] - ETA: 0s - loss: 0.5712 - acc: 0.8275\n",
      "Epoch 18: val_loss did not improve from 0.56689\n",
      "52/52 [==============================] - 16s 309ms/step - loss: 0.5712 - acc: 0.8275 - val_loss: 0.5700 - val_acc: 0.8693\n",
      "Epoch 19/50\n",
      "52/52 [==============================] - ETA: 0s - loss: 0.5745 - acc: 0.8177\n",
      "Epoch 19: val_loss did not improve from 0.56689\n",
      "52/52 [==============================] - 16s 310ms/step - loss: 0.5745 - acc: 0.8177 - val_loss: 0.7543 - val_acc: 0.8693\n",
      "Epoch 20/50\n",
      "52/52 [==============================] - ETA: 0s - loss: 0.5113 - acc: 0.8226\n",
      "Epoch 20: val_loss did not improve from 0.56689\n",
      "52/52 [==============================] - 16s 312ms/step - loss: 0.5113 - acc: 0.8226 - val_loss: 0.6765 - val_acc: 0.8523\n",
      "Epoch 21/50\n",
      "52/52 [==============================] - ETA: 0s - loss: 0.5198 - acc: 0.8348\n",
      "Epoch 21: val_loss did not improve from 0.56689\n",
      "52/52 [==============================] - 17s 326ms/step - loss: 0.5198 - acc: 0.8348 - val_loss: 0.7003 - val_acc: 0.8352\n",
      "Epoch 22/50\n",
      "52/52 [==============================] - ETA: 0s - loss: 0.5414 - acc: 0.8311\n",
      "Epoch 22: val_loss did not improve from 0.56689\n",
      "52/52 [==============================] - 16s 313ms/step - loss: 0.5414 - acc: 0.8311 - val_loss: 0.6758 - val_acc: 0.8580\n",
      "Epoch 23/50\n",
      "52/52 [==============================] - ETA: 0s - loss: 0.4978 - acc: 0.8372\n",
      "Epoch 23: val_loss did not improve from 0.56689\n",
      "52/52 [==============================] - 16s 313ms/step - loss: 0.4978 - acc: 0.8372 - val_loss: 0.6993 - val_acc: 0.8466\n",
      "Epoch 24/50\n",
      "52/52 [==============================] - ETA: 0s - loss: 0.4790 - acc: 0.8615\n",
      "Epoch 24: val_loss did not improve from 0.56689\n",
      "52/52 [==============================] - 16s 315ms/step - loss: 0.4790 - acc: 0.8615 - val_loss: 0.6001 - val_acc: 0.8580\n"
     ]
    }
   ],
   "source": [
    "model2 = model_.fit_generator(\n",
    "    generator=train_generator2,\n",
    "    epochs=50,\n",
    "    validation_data=valid_generator2,\n",
    "    callbacks=callbacks_list2,\n",
    ")"
   ]
  },
  {
   "cell_type": "code",
   "execution_count": null,
   "metadata": {
    "colab": {
     "background_save": true
    },
    "id": "TJqQu5miJ-ln",
    "outputId": "3d0075ce-712a-40de-f866-1df2b8b89717"
   },
   "outputs": [
    {
     "data": {
      "image/png": "[encoded data removed]",
      "text/plain": [
       "<Figure size 432x288 with 1 Axes>"
      ]
     },
     "metadata": {},
     "output_type": "display_data"
    }
   ],
   "source": [
    "epochs = [i for i in range(len(model2.history['loss']))]\n",
    "plt.plot(epochs, model2.history['loss'])\n",
    "plt.plot(epochs, model2.history['val_loss'])\n",
    "plt.title('Training and Validation errors per epoch')\n",
    "plt.xlabel('Epoch')\n",
    "plt.ylabel('Error')\n",
    "plt.legend(['Training Error', 'Validation Error'])\n",
    "plt.show()"
   ]
  },
  {
   "cell_type": "code",
   "execution_count": null,
   "metadata": {
    "colab": {
     "background_save": true
    },
    "id": "cGX1IZG8J-lo"
   },
   "outputs": [],
   "source": [
    "model_.load_weights('/content/gdrive/MyDrive/best_model_vgg.hdf5')"
   ]
  },
  {
   "cell_type": "code",
   "execution_count": null,
   "metadata": {
    "colab": {
     "background_save": true
    },
    "id": "fnuwU4_FJ-lo",
    "outputId": "aa44918b-5bd1-4810-bd4e-2fcb6e837111"
   },
   "outputs": [
    {
     "name": "stdout",
     "output_type": "stream",
     "text": [
      "12/12 [==============================] - 122s 11s/step\n"
     ]
    }
   ],
   "source": [
    "y_pred_ = model_.predict(test_generator2)"
   ]
  },
  {
   "cell_type": "code",
   "execution_count": null,
   "metadata": {
    "colab": {
     "background_save": true
    },
    "id": "a5qIASvbU28U"
   },
   "outputs": [],
   "source": [
    "y_pred2 = np.argmax(y_pred_, axis=1)"
   ]
  },
  {
   "cell_type": "markdown",
   "metadata": {
    "id": "THwffFO746yj"
   },
   "source": [
    "For EfficientNetB0, epoch 18 has the lowest validation error 0.41339, so it is the best model obtained. For VGG16, epoch 14 has the lowest validation error 0.56689, so it is the best model obtained. EfficientNetB0 has higher training and validation accuracy and lower training and validation error. So, EfficientNetB0 might be a better model for this cliassification problem."
   ]
  },
  {
   "cell_type": "markdown",
   "metadata": {
    "id": "ubUw-7ulGZeo"
   },
   "source": [
    "Q1c(v) Precision, Recall, and F1 score"
   ]
  },
  {
   "cell_type": "code",
   "execution_count": null,
   "metadata": {
    "colab": {
     "base_uri": "https://localhost:8080/"
    },
    "id": "0KqcAsWip_66",
    "outputId": "19146651-f793-4bd3-8e61-030082faab98"
   },
   "outputs": [
    {
     "name": "stdout",
     "output_type": "stream",
     "text": [
      "              precision    recall  f1-score   support\n",
      "\n",
      "           0       0.80      0.89      0.84         9\n",
      "           1       0.89      0.89      0.89         9\n",
      "           2       0.90      1.00      0.95         9\n",
      "           3       0.75      0.67      0.71         9\n",
      "           4       1.00      1.00      1.00         9\n",
      "           5       1.00      1.00      1.00         9\n",
      "           6       0.90      1.00      0.95         9\n",
      "           7       1.00      1.00      1.00         6\n",
      "           8       1.00      1.00      1.00         9\n",
      "           9       1.00      1.00      1.00         9\n",
      "          10       1.00      0.89      0.94         9\n",
      "          11       0.75      0.67      0.71         9\n",
      "          12       1.00      0.89      0.94         9\n",
      "          13       1.00      1.00      1.00         9\n",
      "          14       1.00      0.89      0.94         9\n",
      "          15       0.82      1.00      0.90         9\n",
      "          16       1.00      1.00      1.00         9\n",
      "          17       1.00      1.00      1.00         9\n",
      "          18       1.00      0.89      0.94         9\n",
      "          19       0.90      1.00      0.95         9\n",
      "\n",
      "    accuracy                           0.93       177\n",
      "   macro avg       0.94      0.93      0.93       177\n",
      "weighted avg       0.93      0.93      0.93       177\n",
      "\n"
     ]
    }
   ],
   "source": [
    "print(metrics.classification_report(test_generator.classes, y_pred1))"
   ]
  },
  {
   "cell_type": "code",
   "execution_count": null,
   "metadata": {
    "colab": {
     "background_save": true
    },
    "id": "UJHC0VFNGa6H",
    "outputId": "ac043b71-5287-40b1-8b8e-4abdaab8b459"
   },
   "outputs": [
    {
     "name": "stdout",
     "output_type": "stream",
     "text": [
      "              precision    recall  f1-score   support\n",
      "\n",
      "           0       0.53      1.00      0.69         9\n",
      "           1       1.00      0.78      0.88         9\n",
      "           2       1.00      1.00      1.00         9\n",
      "           3       0.80      0.44      0.57         9\n",
      "           4       1.00      1.00      1.00         9\n",
      "           5       1.00      0.89      0.94         9\n",
      "           6       0.73      0.89      0.80         9\n",
      "           7       1.00      0.83      0.91         6\n",
      "           8       0.75      0.67      0.71         9\n",
      "           9       1.00      1.00      1.00         9\n",
      "          10       1.00      0.89      0.94         9\n",
      "          11       0.67      0.67      0.67         9\n",
      "          12       1.00      0.78      0.88         9\n",
      "          13       0.89      0.89      0.89         9\n",
      "          14       1.00      0.78      0.88         9\n",
      "          15       0.62      0.89      0.73         9\n",
      "          16       1.00      0.78      0.88         9\n",
      "          17       0.62      0.56      0.59         9\n",
      "          18       0.75      1.00      0.86         9\n",
      "          19       1.00      1.00      1.00         9\n",
      "\n",
      "    accuracy                           0.84       177\n",
      "   macro avg       0.87      0.84      0.84       177\n",
      "weighted avg       0.87      0.84      0.84       177\n",
      "\n"
     ]
    }
   ],
   "source": [
    "print(metrics.classification_report(test_generator2.classes, y_pred2))"
   ]
  },
  {
   "cell_type": "markdown",
   "metadata": {
    "id": "gmuWYAtSiKug"
   },
   "source": [
    "For EfficientNetB0, the precision is 0.94, recall and F1 score is 0.93. For VGG16, the precision is 0.87, recall and F1 score is 0.84. EfficientNetB0 performs better in this multi-class classification problem."
   ]
  }
 ],
 "metadata": {
  "accelerator": "GPU",
  "colab": {
   "provenance": []
  },
  "gpuClass": "standard",
  "kernelspec": {
   "display_name": "Python 3 (ipykernel)",
   "language": "python",
   "name": "python3"
  },
  "language_info": {
   "codemirror_mode": {
    "name": "ipython",
    "version": 3
   },
   "file_extension": ".py",
   "mimetype": "text/x-python",
   "name": "python",
   "nbconvert_exporter": "python",
   "pygments_lexer": "ipython3",
   "version": "3.9.7"
  },
  "toc": {
   "base_numbering": 1,
   "nav_menu": {},
   "number_sections": true,
   "sideBar": true,
   "skip_h1_title": false,
   "title_cell": "Table of Contents",
   "title_sidebar": "Contents",
   "toc_cell": false,
   "toc_position": {},
   "toc_section_display": true,
   "toc_window_display": false
  }
 },
 "nbformat": 4,
 "nbformat_minor": 1
}
